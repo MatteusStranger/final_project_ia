{
 "cells": [
  {
   "cell_type": "code",
   "execution_count": 1,
   "metadata": {},
   "outputs": [],
   "source": [
    "#Imports\n",
    "\n",
    "from keras import layers\n",
    "from keras.models import Model\n",
    "from keras.models import load_model\n",
    "from keras import callbacks\n",
    "import os\n",
    "import cv2\n",
    "import string\n",
    "import numpy as np\n",
    "import matplotlib.pyplot as plt\n",
    "import keras\n",
    "\n",
    "from keras import backend as K\n",
    "from keras.utils import np_utils\n",
    "from keras.models import Sequential\n",
    "from keras.layers.convolutional import Conv2D, MaxPooling2D\n",
    "from keras.layers import Activation, Flatten, Dense, Dropout\n",
    "from keras.optimizers import SGD\n",
    "from keras.layers.normalization import BatchNormalization\n",
    "\n",
    "from sklearn.metrics import confusion_matrix\n"
   ]
  },
  {
   "cell_type": "code",
   "execution_count": 2,
   "metadata": {},
   "outputs": [],
   "source": [
    "def create_net(num_symbols):\n",
    "    \n",
    "    input_layer = layers.Input(shape=img_shape) \n",
    "    x = Conv2D(filters=32, kernel_size=(5, 5), padding='same', activation='relu')(input_layer)\n",
    "    x = MaxPooling2D(pool_size=(2, 2))(x)\n",
    "\n",
    "    x = Conv2D(filters=48, kernel_size=(5, 5), padding='same', activation='relu')(x)\n",
    "    x = MaxPooling2D(pool_size=(2, 2))(x)\n",
    "\n",
    "    x = Conv2D(filters=64, kernel_size=(5, 5), padding='same', activation='relu')(x)\n",
    "    x = MaxPooling2D(pool_size=(2, 2))(x)\n",
    "\n",
    "    x = Dropout(0.3)(x)\n",
    "    x = Flatten()(x)\n",
    "    x = Dense(512, activation='relu')(x)\n",
    "    x = Dropout(0.3)(x)\n",
    "\n",
    "    out = [Dense(num_symbols, name='digit%d' % i, activation='softmax')(x) for i in range(5)]\n",
    "    model = Model(inputs=input_layer, outputs=out)\n",
    "\n",
    "    # initiate Adam optimizer\n",
    "    opt = keras.optimizers.Adam(lr=0.0001, beta_1=0.99, beta_2=0.9999, epsilon=None, decay=0.0, amsgrad=False)\n",
    "    model.compile(loss='binary_crossentropy', optimizer=opt, metrics=['accuracy'])\n",
    "\n",
    "    model.summary()    \n",
    "    \n",
    "    return model"
   ]
  },
  {
   "cell_type": "markdown",
   "metadata": {},
   "source": [
    "# Leitura dos dados e treinamento em lote"
   ]
  },
  {
   "cell_type": "code",
   "execution_count": 3,
   "metadata": {},
   "outputs": [],
   "source": [
    "def read_name_files(files_dir = 'images/dataset'):\n",
    "\n",
    "    folders = []\n",
    "\n",
    "    # r=root, d=directories, f = files\n",
    "    for r, d, f in os.walk(files_dir):\n",
    "        # Nada\n",
    "        s = \"nada\";\n",
    "    return f"
   ]
  },
  {
   "cell_type": "code",
   "execution_count": 4,
   "metadata": {},
   "outputs": [
    {
     "name": "stdout",
     "output_type": "stream",
     "text": [
      "1000\n"
     ]
    }
   ],
   "source": [
    "files = read_name_files()\n",
    "print(len(files))"
   ]
  },
  {
   "cell_type": "code",
   "execution_count": 5,
   "metadata": {},
   "outputs": [],
   "source": [
    "def batch(iterable, n=1):\n",
    "    l = len(iterable)\n",
    "    for ndx in range(0, l, n):\n",
    "        yield iterable[ndx:min(ndx + n, l)]"
   ]
  },
  {
   "cell_type": "code",
   "execution_count": 6,
   "metadata": {},
   "outputs": [],
   "source": [
    "def read_dataset_batch(symbols, batch_files, captcha_dir = 'images/dataset'):\n",
    "    \n",
    "    num_symbols = len(symbols)\n",
    "    n_samples = len(batch_files)\n",
    "    #X = np.zeros((n_samples, 50, 200, 1))\n",
    "    #X = np.zeros((n_samples, 60, 160, 1))\n",
    "    X = np.zeros((n_samples, 80, 30, 1))\n",
    "    y = np.zeros((5, n_samples, num_symbols))\n",
    "\n",
    "    for i in range(n_samples):\n",
    "        \n",
    "        pic = batch_files[i];\n",
    "        img = cv2.imread(os.path.join(captcha_dir, pic), cv2.IMREAD_GRAYSCALE)\n",
    "        #img = cv2.imread(pic, cv2.IMREAD_GRAYSCALE)\n",
    "        #print(pic);\n",
    "        pic_target = pic[:-4] # retira o .png\n",
    "        #print(pic_target);\n",
    "        #print(img);\n",
    "        # Se nome do arquivo da imagem tem até 5 caracteres\n",
    "        if len(pic_target) < 6:\n",
    "            \n",
    "            # Coloca o valor dos pixels entre 0 e 1\n",
    "            img = img / 255.\n",
    "            img = cv2.resize(img, (int(60/2), int(160/2)), interpolation=cv2.INTER_AREA)\n",
    "            img = np.reshape(img, (img.shape[0], img.shape[1], 1))\n",
    "            #img = np.reshape(img, (60, 160, 1))\n",
    "            # cada captcha possui 5 caracteres\n",
    "            targs = np.zeros((5, num_symbols))\n",
    "            \n",
    "            # Seta a sequência de letras alvo\n",
    "            # O Alvo será uma matriz de todos símbolos pelas 5 posições presentes no captcha.\n",
    "            # Se aquela posição corresponde aquele símbolo o valor da célula será 1, e 0 caso contrário.\n",
    "            for j, l in enumerate(pic_target):\n",
    "                ind = symbols.find(l)\n",
    "                targs[j, ind] = 1\n",
    "                \n",
    "            X[i] = img\n",
    "            y[:, i] = targs\n",
    "            \n",
    "            if(i%1000 == 0):\n",
    "                print(str(i) + \" imagens read\");\n",
    "\n",
    "    return X, y"
   ]
  },
  {
   "cell_type": "code",
   "execution_count": 8,
   "metadata": {},
   "outputs": [],
   "source": [
    "\n",
    "\n",
    "def concat_history(history):\n",
    "    \n",
    "    global digit_acc, val_digit_acc, loss, val_loss\n",
    "    \n",
    "    digit_acc_now = [history.history['digit%d_accuracy' % i] for i in range(5)];\n",
    "    val_digit_acc_now = [history.history['val_digit%d_accuracy' % i] for i in range(5)];\n",
    "    loss = history.history['loss'];\n",
    "    val_loss = history.history['val_loss'];    \n",
    "    \n",
    "    for i in range(5):\n",
    "        digit_acc[i].extend(digit_acc_now[i])\n",
    "        val_digit_acc[i].extend(val_digit_acc_now[i])\n",
    "    loss.extend(loss_now)\n",
    "    val_loss.extend(val_loss_now)"
   ]
  },
  {
   "cell_type": "code",
   "execution_count": 9,
   "metadata": {},
   "outputs": [
    {
     "name": "stdout",
     "output_type": "stream",
     "text": [
      "Model: \"model\"\n",
      "__________________________________________________________________________________________________\n",
      "Layer (type)                    Output Shape         Param #     Connected to                     \n",
      "==================================================================================================\n",
      "input_1 (InputLayer)            [(None, 80, 30, 1)]  0                                            \n",
      "__________________________________________________________________________________________________\n",
      "conv2d (Conv2D)                 (None, 80, 30, 32)   832         input_1[0][0]                    \n",
      "__________________________________________________________________________________________________\n",
      "max_pooling2d (MaxPooling2D)    (None, 40, 15, 32)   0           conv2d[0][0]                     \n",
      "__________________________________________________________________________________________________\n",
      "conv2d_1 (Conv2D)               (None, 40, 15, 48)   38448       max_pooling2d[0][0]              \n",
      "__________________________________________________________________________________________________\n",
      "max_pooling2d_1 (MaxPooling2D)  (None, 20, 7, 48)    0           conv2d_1[0][0]                   \n",
      "__________________________________________________________________________________________________\n",
      "conv2d_2 (Conv2D)               (None, 20, 7, 64)    76864       max_pooling2d_1[0][0]            \n",
      "__________________________________________________________________________________________________\n",
      "max_pooling2d_2 (MaxPooling2D)  (None, 10, 3, 64)    0           conv2d_2[0][0]                   \n",
      "__________________________________________________________________________________________________\n",
      "dropout (Dropout)               (None, 10, 3, 64)    0           max_pooling2d_2[0][0]            \n",
      "__________________________________________________________________________________________________\n",
      "flatten (Flatten)               (None, 1920)         0           dropout[0][0]                    \n",
      "__________________________________________________________________________________________________\n",
      "dense (Dense)                   (None, 512)          983552      flatten[0][0]                    \n",
      "__________________________________________________________________________________________________\n",
      "dropout_1 (Dropout)             (None, 512)          0           dense[0][0]                      \n",
      "__________________________________________________________________________________________________\n",
      "digit0 (Dense)                  (None, 62)           31806       dropout_1[0][0]                  \n",
      "__________________________________________________________________________________________________\n",
      "digit1 (Dense)                  (None, 62)           31806       dropout_1[0][0]                  \n",
      "__________________________________________________________________________________________________\n",
      "digit2 (Dense)                  (None, 62)           31806       dropout_1[0][0]                  \n",
      "__________________________________________________________________________________________________\n",
      "digit3 (Dense)                  (None, 62)           31806       dropout_1[0][0]                  \n",
      "__________________________________________________________________________________________________\n",
      "digit4 (Dense)                  (None, 62)           31806       dropout_1[0][0]                  \n",
      "==================================================================================================\n",
      "Total params: 1,258,726\n",
      "Trainable params: 1,258,726\n",
      "Non-trainable params: 0\n",
      "__________________________________________________________________________________________________\n",
      "0 imagens read\n",
      "Inicio Treino # 1\n",
      "Epoch 1/5\n",
      "8/8 [==============================] - 1s 104ms/step - loss: 0.4134 - digit0_loss: 0.0826 - digit1_loss: 0.0830 - digit2_loss: 0.0827 - digit3_loss: 0.0825 - digit4_loss: 0.0825 - digit0_accuracy: 0.0250 - digit1_accuracy: 0.0000e+00 - digit2_accuracy: 0.0250 - digit3_accuracy: 0.0000e+00 - digit4_accuracy: 0.0500 - val_loss: 0.4132 - val_digit0_loss: 0.0831 - val_digit1_loss: 0.0823 - val_digit2_loss: 0.0831 - val_digit3_loss: 0.0823 - val_digit4_loss: 0.0823 - val_digit0_accuracy: 0.0000e+00 - val_digit1_accuracy: 0.0000e+00 - val_digit2_accuracy: 0.0000e+00 - val_digit3_accuracy: 0.0500 - val_digit4_accuracy: 0.0000e+00\n",
      "Epoch 2/5\n",
      "8/8 [==============================] - 0s 45ms/step - loss: 0.4110 - digit0_loss: 0.0825 - digit1_loss: 0.0821 - digit2_loss: 0.0823 - digit3_loss: 0.0821 - digit4_loss: 0.0821 - digit0_accuracy: 0.0250 - digit1_accuracy: 0.0750 - digit2_accuracy: 0.0375 - digit3_accuracy: 0.0500 - digit4_accuracy: 0.0625 - val_loss: 0.4131 - val_digit0_loss: 0.0830 - val_digit1_loss: 0.0823 - val_digit2_loss: 0.0834 - val_digit3_loss: 0.0821 - val_digit4_loss: 0.0824 - val_digit0_accuracy: 0.0500 - val_digit1_accuracy: 0.0000e+00 - val_digit2_accuracy: 0.0000e+00 - val_digit3_accuracy: 0.0000e+00 - val_digit4_accuracy: 0.0000e+00\n",
      "Epoch 3/5\n",
      "8/8 [==============================] - 0s 51ms/step - loss: 0.4096 - digit0_loss: 0.0817 - digit1_loss: 0.0819 - digit2_loss: 0.0818 - digit3_loss: 0.0821 - digit4_loss: 0.0820 - digit0_accuracy: 0.0500 - digit1_accuracy: 0.0500 - digit2_accuracy: 0.0500 - digit3_accuracy: 0.0375 - digit4_accuracy: 0.0375 - val_loss: 0.4133 - val_digit0_loss: 0.0830 - val_digit1_loss: 0.0822 - val_digit2_loss: 0.0836 - val_digit3_loss: 0.0820 - val_digit4_loss: 0.0825 - val_digit0_accuracy: 0.0500 - val_digit1_accuracy: 0.0000e+00 - val_digit2_accuracy: 0.0000e+00 - val_digit3_accuracy: 0.0500 - val_digit4_accuracy: 0.0000e+00\n",
      "Epoch 4/5\n",
      "8/8 [==============================] - 0s 49ms/step - loss: 0.4084 - digit0_loss: 0.0813 - digit1_loss: 0.0819 - digit2_loss: 0.0814 - digit3_loss: 0.0821 - digit4_loss: 0.0818 - digit0_accuracy: 0.0250 - digit1_accuracy: 0.0125 - digit2_accuracy: 0.0375 - digit3_accuracy: 0.0500 - digit4_accuracy: 0.0625 - val_loss: 0.4138 - val_digit0_loss: 0.0831 - val_digit1_loss: 0.0821 - val_digit2_loss: 0.0840 - val_digit3_loss: 0.0820 - val_digit4_loss: 0.0826 - val_digit0_accuracy: 0.0500 - val_digit1_accuracy: 0.0000e+00 - val_digit2_accuracy: 0.0000e+00 - val_digit3_accuracy: 0.0500 - val_digit4_accuracy: 0.0000e+00\n",
      "Epoch 5/5\n",
      "8/8 [==============================] - 0s 58ms/step - loss: 0.4064 - digit0_loss: 0.0812 - digit1_loss: 0.0818 - digit2_loss: 0.0808 - digit3_loss: 0.0817 - digit4_loss: 0.0809 - digit0_accuracy: 0.0500 - digit1_accuracy: 0.0125 - digit2_accuracy: 0.0625 - digit3_accuracy: 0.0250 - digit4_accuracy: 0.0375 - val_loss: 0.4147 - val_digit0_loss: 0.0833 - val_digit1_loss: 0.0821 - val_digit2_loss: 0.0846 - val_digit3_loss: 0.0819 - val_digit4_loss: 0.0827 - val_digit0_accuracy: 0.0500 - val_digit1_accuracy: 0.0500 - val_digit2_accuracy: 0.0000e+00 - val_digit3_accuracy: 0.0500 - val_digit4_accuracy: 0.0000e+00\n"
     ]
    },
    {
     "ename": "NameError",
     "evalue": "name 'history_all' is not defined",
     "output_type": "error",
     "traceback": [
      "\u001b[0;31m---------------------------------------------------------------------------\u001b[0m",
      "\u001b[0;31mNameError\u001b[0m                                 Traceback (most recent call last)",
      "\u001b[0;32m<ipython-input-9-fb70fae6835b>\u001b[0m in \u001b[0;36m<module>\u001b[0;34m\u001b[0m\n\u001b[1;32m     17\u001b[0m     \u001b[0mi\u001b[0m \u001b[0;34m=\u001b[0m \u001b[0mi\u001b[0m \u001b[0;34m+\u001b[0m \u001b[0;36m1\u001b[0m\u001b[0;34m\u001b[0m\u001b[0;34m\u001b[0m\u001b[0m\n\u001b[1;32m     18\u001b[0m     \u001b[0mhistory\u001b[0m \u001b[0;34m=\u001b[0m \u001b[0mnet\u001b[0m\u001b[0;34m.\u001b[0m\u001b[0mfit\u001b[0m\u001b[0;34m(\u001b[0m\u001b[0mX_train\u001b[0m\u001b[0;34m,\u001b[0m \u001b[0;34m[\u001b[0m\u001b[0my_train\u001b[0m\u001b[0;34m[\u001b[0m\u001b[0;36m0\u001b[0m\u001b[0;34m]\u001b[0m\u001b[0;34m,\u001b[0m \u001b[0my_train\u001b[0m\u001b[0;34m[\u001b[0m\u001b[0;36m1\u001b[0m\u001b[0;34m]\u001b[0m\u001b[0;34m,\u001b[0m \u001b[0my_train\u001b[0m\u001b[0;34m[\u001b[0m\u001b[0;36m2\u001b[0m\u001b[0;34m]\u001b[0m\u001b[0;34m,\u001b[0m \u001b[0my_train\u001b[0m\u001b[0;34m[\u001b[0m\u001b[0;36m3\u001b[0m\u001b[0;34m]\u001b[0m\u001b[0;34m,\u001b[0m \u001b[0my_train\u001b[0m\u001b[0;34m[\u001b[0m\u001b[0;36m4\u001b[0m\u001b[0;34m]\u001b[0m\u001b[0;34m]\u001b[0m\u001b[0;34m,\u001b[0m \u001b[0mepochs\u001b[0m\u001b[0;34m=\u001b[0m\u001b[0;36m5\u001b[0m\u001b[0;34m,\u001b[0m \u001b[0mvalidation_split\u001b[0m\u001b[0;34m=\u001b[0m\u001b[0;36m0.2\u001b[0m\u001b[0;34m,\u001b[0m \u001b[0mbatch_size\u001b[0m\u001b[0;34m=\u001b[0m\u001b[0;36m10\u001b[0m\u001b[0;34m)\u001b[0m\u001b[0;34m\u001b[0m\u001b[0;34m\u001b[0m\u001b[0m\n\u001b[0;32m---> 19\u001b[0;31m     \u001b[0mconcat_history\u001b[0m\u001b[0;34m(\u001b[0m\u001b[0mhistory_all\u001b[0m\u001b[0;34m,\u001b[0m \u001b[0mhistory\u001b[0m\u001b[0;34m)\u001b[0m\u001b[0;34m;\u001b[0m\u001b[0;34m\u001b[0m\u001b[0;34m\u001b[0m\u001b[0m\n\u001b[0m",
      "\u001b[0;31mNameError\u001b[0m: name 'history_all' is not defined"
     ]
    }
   ],
   "source": [
    "symbols = string.ascii_lowercase + string.ascii_uppercase + \"0123456789\"\n",
    "#img_shape = (60, 160, 1)\n",
    "img_shape = (80, 30, 1)\n",
    "net = create_net(len(symbols))\n",
    "\n",
    "# Estatísticas\n",
    "digit_acc = [[] for _ in range(5)]\n",
    "val_digit_acc = [[] for _ in range(5)]\n",
    "loss = []\n",
    "val_loss = []\n",
    "\n",
    "i = 1;\n",
    "for batch_files in batch(files, 100):    \n",
    "    X_train, y_train = read_dataset_batch(symbols, batch_files)\n",
    "    #print(X_train.shape())\n",
    "    print(\"Inicio Treino #\", str(i));\n",
    "    i = i + 1\n",
    "    history = net.fit(X_train, [y_train[0], y_train[1], y_train[2], y_train[3], y_train[4]], epochs=5, validation_split=0.2, batch_size=10)\n",
    "    concat_history(history);"
   ]
  },
  {
   "cell_type": "code",
   "execution_count": 9,
   "metadata": {},
   "outputs": [],
   "source": [
    "def predict(img, n_symbols):\n",
    "    \n",
    "    #img = cv2.imread(filepath, cv2.IMREAD_GRAYSCALE) / 255.\n",
    "    res = np.array(net.predict(img[np.newaxis, :, :, np.newaxis]))\n",
    "    ans = np.reshape(res, (5, n_symbols))\n",
    "    l_ind = []\n",
    "    probs = []\n",
    "    \n",
    "    for a in ans:\n",
    "        l_ind.append(np.argmax(a))\n",
    "        probs.append(np.max(a))\n",
    "\n",
    "    capt = ''\n",
    "    for l in l_ind:\n",
    "        capt += symbols[l]\n",
    "    return capt, sum(probs) / 5"
   ]
  },
  {
   "cell_type": "code",
   "execution_count": 10,
   "metadata": {},
   "outputs": [],
   "source": [
    "def plot_model_history(model_history):\n",
    "    fig, axs = plt.subplots(1,2,figsize=(15,5))\n",
    "    axs[1].plot(range(1,len(model_history.history['loss'])+1),model_history.history['loss'])\n",
    "    axs[1].plot(range(1,len(model_history.history['val_loss'])+1),model_history.history['val_loss'])\n",
    "    axs[1].set_title('Model Loss')\n",
    "    axs[1].set_ylabel('Loss')\n",
    "    axs[1].set_xlabel('Epoch')\n",
    "    axs[1].set_xticks(np.arange(1,len(model_history.history['loss'])+1),len(model_history.history['loss'])/10)\n",
    "    axs[1].legend(['train', 'val'], loc='best')\n",
    "    plt.show()"
   ]
  },
  {
   "cell_type": "code",
   "execution_count": 33,
   "metadata": {},
   "outputs": [],
   "source": [
    "def concat_plot_diagram(digit_acc_now, val_digit_acc_now, loss_now, val_loss_now):\n",
    "    \n",
    "    print(\"Params:\")\n",
    "    print(val_loss_now)\n",
    "    \n",
    "    global digit_acc, val_digit_acc, loss, val_loss\n",
    "    for i in range(5):\n",
    "        digit_acc[i].extend(digit_acc_now[i])\n",
    "        val_digit_acc[i].extend(val_digit_acc_now[i])\n",
    "    loss.extend(loss_now)\n",
    "    val_loss.extend(val_loss_now)\n",
    "    \n",
    "    \n",
    "    for i in range(5):\n",
    "        plt.plot(digit_acc[i], label='digit%d_accuracy' % i)\n",
    "        plt.plot(val_digit_acc[i], label='val_digit%d_accuracy' % i)\n",
    "    plt.title('Model accuracy')\n",
    "    plt.ylabel('Accuracy')\n",
    "    plt.xlabel('Epoch')\n",
    "    plt.legend()\n",
    "    plt.show()\n",
    "\n",
    "    # Plot training & validation loss values\n",
    "    plt.plot(loss)\n",
    "    plt.plot(val_loss)\n",
    "    plt.title('Model loss')\n",
    "    plt.ylabel('Loss')\n",
    "    plt.xlabel('Epoch')\n",
    "    plt.legend(['Train', 'Test'], loc='upper left')\n",
    "    plt.show()"
   ]
  },
  {
   "cell_type": "code",
   "execution_count": 36,
   "metadata": {},
   "outputs": [],
   "source": [
    "def plot_diagram():\n",
    "    \n",
    "    \n",
    "    global digit_acc, val_digit_acc, loss, val_loss\n",
    "    \n",
    "    \n",
    "    for i in range(5):\n",
    "        plt.plot(digit_acc[i], label='digit%d_accuracy' % i)\n",
    "        plt.plot(val_digit_acc[i], label='val_digit%d_accuracy' % i)\n",
    "    plt.title('Model accuracy')\n",
    "    plt.ylabel('Accuracy')\n",
    "    plt.xlabel('Epoch')\n",
    "    plt.legend()\n",
    "    plt.show()\n",
    "\n",
    "    # Plot training & validation loss values\n",
    "    plt.plot(loss)\n",
    "    plt.plot(val_loss)\n",
    "    plt.title('Model loss')\n",
    "    plt.ylabel('Loss')\n",
    "    plt.xlabel('Epoch')\n",
    "    plt.legend(['Train', 'Test'], loc='upper left')\n",
    "    plt.show()"
   ]
  },
  {
   "cell_type": "code",
   "execution_count": 38,
   "metadata": {},
   "outputs": [
    {
     "name": "stdout",
     "output_type": "stream",
     "text": [
      "{'loss': [0.4131195545196533, 0.41292649507522583, 0.412808895111084, 0.412968248128891, 0.4125165343284607], 'digit0_loss': [0.08274249732494354, 0.08258772641420364, 0.08251093327999115, 0.08258050680160522, 0.08251061290502548], 'digit1_loss': [0.08264980465173721, 0.0826600044965744, 0.08252771943807602, 0.08259864896535873, 0.08250933885574341], 'digit2_loss': [0.08264247328042984, 0.08251791447401047, 0.082597516477108, 0.08263509720563889, 0.08242366462945938], 'digit3_loss': [0.08265022188425064, 0.08275783061981201, 0.08269926905632019, 0.08273780345916748, 0.08266528695821762], 'digit4_loss': [0.08243454992771149, 0.0824030414223671, 0.08247347176074982, 0.08241619169712067, 0.0824076384305954], 'digit0_accuracy': [0.02500000037252903, 0.0, 0.0, 0.012500000186264515, 0.02500000037252903], 'digit1_accuracy': [0.0, 0.0, 0.012500000186264515, 0.012500000186264515, 0.0], 'digit2_accuracy': [0.0, 0.012500000186264515, 0.02500000037252903, 0.03750000149011612, 0.012500000186264515], 'digit3_accuracy': [0.012500000186264515, 0.0, 0.0, 0.02500000037252903, 0.012500000186264515], 'digit4_accuracy': [0.012500000186264515, 0.012500000186264515, 0.02500000037252903, 0.03750000149011612, 0.05000000074505806], 'val_loss': [0.4132530093193054, 0.4132769703865051, 0.413316011428833, 0.4133538603782654, 0.4133930206298828], 'val_digit0_loss': [0.08252318948507309, 0.08252818882465363, 0.08254124224185944, 0.08255801349878311, 0.08258207142353058], 'val_digit1_loss': [0.08273164182901382, 0.0827469676733017, 0.08276830613613129, 0.08279533684253693, 0.08282642066478729], 'val_digit2_loss': [0.08284728229045868, 0.08284874260425568, 0.08284831047058105, 0.08284100145101547, 0.08282803744077682], 'val_digit3_loss': [0.08261536061763763, 0.08262459933757782, 0.08263044059276581, 0.08263343572616577, 0.08263261616230011], 'val_digit4_loss': [0.08253557235002518, 0.08252842724323273, 0.08252768963575363, 0.0825260654091835, 0.08252386003732681], 'val_digit0_accuracy': [0.0, 0.0, 0.0, 0.0, 0.0], 'val_digit1_accuracy': [0.0, 0.0, 0.0, 0.0, 0.0], 'val_digit2_accuracy': [0.10000000149011612, 0.10000000149011612, 0.0, 0.0, 0.05000000074505806], 'val_digit3_accuracy': [0.0, 0.0, 0.0, 0.0, 0.0], 'val_digit4_accuracy': [0.05000000074505806, 0.05000000074505806, 0.05000000074505806, 0.0, 0.0]}\n"
     ]
    },
    {
     "data": {
      "image/png": "[encoded data removed]",
      "text/plain": [
       "<Figure size 432x288 with 1 Axes>"
      ]
     },
     "metadata": {
      "needs_background": "light"
     },
     "output_type": "display_data"
    },
    {
     "data": {
      "image/png": "[encoded data removed]",
      "text/plain": [
       "<Figure size 432x288 with 1 Axes>"
      ]
     },
     "metadata": {
      "needs_background": "light"
     },
     "output_type": "display_data"
    }
   ],
   "source": [
    "\n",
    "\n",
    "print(history.history)\n",
    "plot_diagram()\n",
    "\n",
    "#    plot_diagram(\n",
    "#        [history.history['digit%d_accuracy' % i] for i in range(5)],\n",
    "#        #[history.history['digit%d_loss' % i] for i in range(5)],\n",
    "#        [history.history['val_digit%d_accuracy' % i] for i in range(5)],\n",
    "#        #[history.history['val_digit%d_loss' % i] for i in range(5)],\n",
    "#        history.history['loss'],\n",
    "#        history.history['val_loss'],\n",
    "#    )\n"
   ]
  },
  {
   "cell_type": "code",
   "execution_count": 34,
   "metadata": {},
   "outputs": [
    {
     "name": "stderr",
     "output_type": "stream",
     "text": [
      "<ipython-input-33-c6ab7055161c>:8: MatplotlibDeprecationWarning: Passing the minor parameter of set_xticks() positionally is deprecated since Matplotlib 3.2; the parameter will become keyword-only two minor releases later.\n",
      "  axs[1].set_xticks(np.arange(1,len(model_history.history['loss'])+1),len(model_history.history['loss'])/10)\n"
     ]
    },
    {
     "data": {
      "image/png": "[encoded data removed]",
      "text/plain": [
       "<Figure size 1080x360 with 2 Axes>"
      ]
     },
     "metadata": {
      "needs_background": "light"
     },
     "output_type": "display_data"
    }
   ],
   "source": [
    "plot_model_history(history)"
   ]
  },
  {
   "cell_type": "code",
   "execution_count": 35,
   "metadata": {},
   "outputs": [],
   "source": [
    "def accuracy(test_x, test_y, model):\n",
    "    result = net.predict(test_x)\n",
    "    predicted_class = np.argmax(result, axis=1)\n",
    "    true_class = np.argmax(test_y, axis=1)\n",
    "    num_correct = np.sum(predicted_class == true_class)\n",
    "    #len(result) * \n",
    "    print(num_correct)\n",
    "    num_caracteres = result[0].shape[0]\n",
    "    accuracy = float(num_correct)/num_caracteres\n",
    "    return (accuracy * 100)"
   ]
  },
  {
   "cell_type": "code",
   "execution_count": 36,
   "metadata": {},
   "outputs": [
    {
     "ename": "NameError",
     "evalue": "name 'X_test' is not defined",
     "output_type": "error",
     "traceback": [
      "\u001b[0;31m---------------------------------------------------------------------------\u001b[0m",
      "\u001b[0;31mNameError\u001b[0m                                 Traceback (most recent call last)",
      "\u001b[0;32m<ipython-input-36-52d5905b76a2>\u001b[0m in \u001b[0;36m<module>\u001b[0;34m\u001b[0m\n\u001b[1;32m      1\u001b[0m \u001b[0;31m#X_test = data_valid\u001b[0m\u001b[0;34m\u001b[0m\u001b[0;34m\u001b[0m\u001b[0;34m\u001b[0m\u001b[0m\n\u001b[1;32m      2\u001b[0m \u001b[0;31m#y_test = data_valid_target\u001b[0m\u001b[0;34m\u001b[0m\u001b[0;34m\u001b[0m\u001b[0;34m\u001b[0m\u001b[0m\n\u001b[0;32m----> 3\u001b[0;31m \u001b[0mnet\u001b[0m\u001b[0;34m.\u001b[0m\u001b[0mevaluate\u001b[0m\u001b[0;34m(\u001b[0m\u001b[0mX_test\u001b[0m\u001b[0;34m,\u001b[0m \u001b[0;34m[\u001b[0m\u001b[0my_test\u001b[0m\u001b[0;34m[\u001b[0m\u001b[0;36m0\u001b[0m\u001b[0;34m]\u001b[0m\u001b[0;34m,\u001b[0m \u001b[0my_test\u001b[0m\u001b[0;34m[\u001b[0m\u001b[0;36m1\u001b[0m\u001b[0;34m]\u001b[0m\u001b[0;34m,\u001b[0m \u001b[0my_test\u001b[0m\u001b[0;34m[\u001b[0m\u001b[0;36m2\u001b[0m\u001b[0;34m]\u001b[0m\u001b[0;34m,\u001b[0m \u001b[0my_test\u001b[0m\u001b[0;34m[\u001b[0m\u001b[0;36m3\u001b[0m\u001b[0;34m]\u001b[0m\u001b[0;34m,\u001b[0m \u001b[0my_test\u001b[0m\u001b[0;34m[\u001b[0m\u001b[0;36m4\u001b[0m\u001b[0;34m]\u001b[0m\u001b[0;34m]\u001b[0m\u001b[0;34m)\u001b[0m\u001b[0;34m\u001b[0m\u001b[0;34m\u001b[0m\u001b[0m\n\u001b[0m\u001b[1;32m      4\u001b[0m \u001b[0mprint\u001b[0m \u001b[0;34m(\u001b[0m\u001b[0;34m\"Accuracy on test data is: %0.2f\"\u001b[0m\u001b[0;34m%\u001b[0m\u001b[0maccuracy\u001b[0m\u001b[0;34m(\u001b[0m\u001b[0mX_test\u001b[0m\u001b[0;34m,\u001b[0m \u001b[0;34m[\u001b[0m\u001b[0my_test\u001b[0m\u001b[0;34m[\u001b[0m\u001b[0;36m0\u001b[0m\u001b[0;34m]\u001b[0m\u001b[0;34m,\u001b[0m \u001b[0my_test\u001b[0m\u001b[0;34m[\u001b[0m\u001b[0;36m1\u001b[0m\u001b[0;34m]\u001b[0m\u001b[0;34m,\u001b[0m \u001b[0my_test\u001b[0m\u001b[0;34m[\u001b[0m\u001b[0;36m2\u001b[0m\u001b[0;34m]\u001b[0m\u001b[0;34m,\u001b[0m \u001b[0my_test\u001b[0m\u001b[0;34m[\u001b[0m\u001b[0;36m3\u001b[0m\u001b[0;34m]\u001b[0m\u001b[0;34m,\u001b[0m \u001b[0my_test\u001b[0m\u001b[0;34m[\u001b[0m\u001b[0;36m4\u001b[0m\u001b[0;34m]\u001b[0m\u001b[0;34m]\u001b[0m\u001b[0;34m,\u001b[0m \u001b[0mnet\u001b[0m\u001b[0;34m)\u001b[0m\u001b[0;34m)\u001b[0m\u001b[0;34m\u001b[0m\u001b[0;34m\u001b[0m\u001b[0m\n",
      "\u001b[0;31mNameError\u001b[0m: name 'X_test' is not defined"
     ]
    }
   ],
   "source": [
    "#X_test = data_valid\n",
    "#y_test = data_valid_target\n",
    "net.evaluate(X_test, [y_test[0], y_test[1], y_test[2], y_test[3], y_test[4]])\n",
    "print (\"Accuracy on test data is: %0.2f\"%accuracy(X_test, [y_test[0], y_test[1], y_test[2], y_test[3], y_test[4]], net))"
   ]
  },
  {
   "cell_type": "code",
   "execution_count": null,
   "metadata": {},
   "outputs": [],
   "source": []
  }
 ],
 "metadata": {
  "kernelspec": {
   "display_name": "Python 3",
   "language": "python",
   "name": "python3"
  },
  "language_info": {
   "codemirror_mode": {
    "name": "ipython",
    "version": 3
   },
   "file_extension": ".py",
   "mimetype": "text/x-python",
   "name": "python",
   "nbconvert_exporter": "python",
   "pygments_lexer": "ipython3",
   "version": "3.8.2"
  }
 },
 "nbformat": 4,
 "nbformat_minor": 4
}
