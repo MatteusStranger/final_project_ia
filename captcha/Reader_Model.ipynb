{
 "cells": [
  {
   "cell_type": "code",
   "execution_count": 33,
   "metadata": {},
   "outputs": [],
   "source": [
    "import string\n",
    "\n",
    "from keras import layers\n",
    "from keras.models import Model\n",
    "\n",
    "import cv2\n",
    "import numpy as np\n",
    "import os\n",
    "\n",
    "import matplotlib.pyplot as plt\n"
   ]
  },
  {
   "cell_type": "code",
   "execution_count": 16,
   "metadata": {},
   "outputs": [],
   "source": [
    "symbols = string.ascii_lowercase + string.ascii_uppercase + \"0123456789\"\n",
    "num_symbols = len(symbols)\n",
    "\n",
    "# Tamanho das imagens de entrada à RN\n",
    "img_height = 30\n",
    "img_width = 80\n",
    "img_shape = (img_height, img_width, 1)\n",
    "\n",
    "# Tamanho da palavra no captcha\n",
    "size_word = 5"
   ]
  },
  {
   "cell_type": "code",
   "execution_count": 17,
   "metadata": {},
   "outputs": [],
   "source": [
    "################################################################################################################\n",
    "#\n",
    "# Modelo\n",
    "#\n",
    "#    Geração da rede neural com base no Keras\n",
    "#\n",
    "################################################################################################################\n",
    "\n",
    "def create_net():\n",
    "    \n",
    "    img = layers.Input(shape=img_shape) \n",
    "    \n",
    "    # Convolução\n",
    "    conv1 = layers.Conv2D(16, (3, 3), padding='valid', activation='relu', use_bias=True, kernel_initializer='glorot_uniform', bias_initializer='zeros', name='Conv_1')(img)    \n",
    "    mp1 = layers.MaxPooling2D(padding='same', name='MaxPool_1')(conv1)\n",
    "    \n",
    "    # Convolução\n",
    "    conv2 = layers.Conv2D(32, (3, 3), padding='valid', activation='relu', use_bias=True, kernel_initializer='glorot_uniform',bias_initializer='zeros', name='Conv_2')(mp1)\n",
    "    mp2 = layers.MaxPooling2D(padding='same', name='MaxPool_2')(conv2)\n",
    "    \n",
    "    # Convolução\n",
    "    conv3 = layers.Conv2D(32, (3, 3), padding='valid', activation='relu', use_bias=True, kernel_initializer='glorot_uniform',bias_initializer='zeros', name='Conv_3')(mp2)\n",
    "    bn = layers.BatchNormalization()(conv3)\n",
    "    \n",
    "    # Camada de saída\n",
    "    mp3 = layers.MaxPooling2D(padding='same', name='MaxPool_3')(bn) \n",
    "    flat = layers.Flatten()(mp3)\n",
    "    \n",
    "    outs = []\n",
    "    for i in range(5):\n",
    "        dens1 = layers.Dense(64, activation='relu')(flat)\n",
    "        drop = layers.Dropout(0.5)(dens1)\n",
    "        res = layers.Dense(num_symbols, name='digit%d' % i, activation='sigmoid')(drop)\n",
    "\n",
    "        outs.append(res)\n",
    "    \n",
    "    model = Model(img, outs)\n",
    "    model.compile('adam', loss=['categorical_crossentropy', 'categorical_crossentropy',\n",
    "                                   'categorical_crossentropy', 'categorical_crossentropy', 'categorical_crossentropy'], metrics=['accuracy'])\n",
    "    model.summary()\n",
    "    return model\n"
   ]
  },
  {
   "cell_type": "code",
   "execution_count": 18,
   "metadata": {},
   "outputs": [
    {
     "name": "stdout",
     "output_type": "stream",
     "text": [
      "Model: \"model_1\"\n",
      "__________________________________________________________________________________________________\n",
      "Layer (type)                    Output Shape         Param #     Connected to                     \n",
      "==================================================================================================\n",
      "input_2 (InputLayer)            [(None, 30, 80, 1)]  0                                            \n",
      "__________________________________________________________________________________________________\n",
      "Conv_1 (Conv2D)                 (None, 28, 78, 16)   160         input_2[0][0]                    \n",
      "__________________________________________________________________________________________________\n",
      "MaxPool_1 (MaxPooling2D)        (None, 14, 39, 16)   0           Conv_1[0][0]                     \n",
      "__________________________________________________________________________________________________\n",
      "Conv_2 (Conv2D)                 (None, 12, 37, 32)   4640        MaxPool_1[0][0]                  \n",
      "__________________________________________________________________________________________________\n",
      "MaxPool_2 (MaxPooling2D)        (None, 6, 19, 32)    0           Conv_2[0][0]                     \n",
      "__________________________________________________________________________________________________\n",
      "Conv_3 (Conv2D)                 (None, 4, 17, 32)    9248        MaxPool_2[0][0]                  \n",
      "__________________________________________________________________________________________________\n",
      "batch_normalization_1 (BatchNor (None, 4, 17, 32)    128         Conv_3[0][0]                     \n",
      "__________________________________________________________________________________________________\n",
      "MaxPool_3 (MaxPooling2D)        (None, 2, 9, 32)     0           batch_normalization_1[0][0]      \n",
      "__________________________________________________________________________________________________\n",
      "flatten_1 (Flatten)             (None, 576)          0           MaxPool_3[0][0]                  \n",
      "__________________________________________________________________________________________________\n",
      "dense_5 (Dense)                 (None, 64)           36928       flatten_1[0][0]                  \n",
      "__________________________________________________________________________________________________\n",
      "dense_6 (Dense)                 (None, 64)           36928       flatten_1[0][0]                  \n",
      "__________________________________________________________________________________________________\n",
      "dense_7 (Dense)                 (None, 64)           36928       flatten_1[0][0]                  \n",
      "__________________________________________________________________________________________________\n",
      "dense_8 (Dense)                 (None, 64)           36928       flatten_1[0][0]                  \n",
      "__________________________________________________________________________________________________\n",
      "dense_9 (Dense)                 (None, 64)           36928       flatten_1[0][0]                  \n",
      "__________________________________________________________________________________________________\n",
      "dropout_5 (Dropout)             (None, 64)           0           dense_5[0][0]                    \n",
      "__________________________________________________________________________________________________\n",
      "dropout_6 (Dropout)             (None, 64)           0           dense_6[0][0]                    \n",
      "__________________________________________________________________________________________________\n",
      "dropout_7 (Dropout)             (None, 64)           0           dense_7[0][0]                    \n",
      "__________________________________________________________________________________________________\n",
      "dropout_8 (Dropout)             (None, 64)           0           dense_8[0][0]                    \n",
      "__________________________________________________________________________________________________\n",
      "dropout_9 (Dropout)             (None, 64)           0           dense_9[0][0]                    \n",
      "__________________________________________________________________________________________________\n",
      "digit0 (Dense)                  (None, 62)           4030        dropout_5[0][0]                  \n",
      "__________________________________________________________________________________________________\n",
      "digit1 (Dense)                  (None, 62)           4030        dropout_6[0][0]                  \n",
      "__________________________________________________________________________________________________\n",
      "digit2 (Dense)                  (None, 62)           4030        dropout_7[0][0]                  \n",
      "__________________________________________________________________________________________________\n",
      "digit3 (Dense)                  (None, 62)           4030        dropout_8[0][0]                  \n",
      "__________________________________________________________________________________________________\n",
      "digit4 (Dense)                  (None, 62)           4030        dropout_9[0][0]                  \n",
      "==================================================================================================\n",
      "Total params: 218,966\n",
      "Trainable params: 218,902\n",
      "Non-trainable params: 64\n",
      "__________________________________________________________________________________________________\n"
     ]
    }
   ],
   "source": [
    "model = create_net()"
   ]
  },
  {
   "cell_type": "code",
   "execution_count": 19,
   "metadata": {},
   "outputs": [],
   "source": [
    "filePathName = './output-captcha/weights-50-4.75.hdf5'\n",
    "model.load_weights(filePathName)"
   ]
  },
  {
   "cell_type": "code",
   "execution_count": 20,
   "metadata": {},
   "outputs": [],
   "source": [
    "################################################################################################################\n",
    "#\n",
    "# Predição\n",
    "#\n",
    "#    Função que recebe um modelo e uma imagem captcha e retorna a string contida nela conforme determinado pelo\n",
    "#    modelo.\n",
    "#\n",
    "################################################################################################################\n",
    "\n",
    "def predict(net, img):\n",
    "    \n",
    "    word_predicted = np.array(net.predict(img[np.newaxis, :, :, np.newaxis]))\n",
    "    word_predicted = np.reshape(word_predicted, (size_word, num_symbols))\n",
    "    \n",
    "    capt = ''\n",
    "    for symbol in word_predicted:\n",
    "        idx_symbol = np.argmax(symbol)\n",
    "        capt += symbols[idx_symbol]\n",
    "    \n",
    "    return capt"
   ]
  },
  {
   "cell_type": "code",
   "execution_count": 21,
   "metadata": {},
   "outputs": [],
   "source": [
    "################################################################################################################\n",
    "#\n",
    "# Leitura dos nomes dos arquivos\n",
    "#\n",
    "#    Realiza a leitura do nome dos arquivos de captchas recebendo por parametro o diretório onde os arquivos \n",
    "#    estão armazenados.\n",
    "#    Retorna a lista do nome de arquivos.\n",
    "#\n",
    "################################################################################################################\n",
    "\n",
    "def read_name_files(files_dir = 'images/dataset'):\n",
    "\n",
    "    files = os.listdir(files_dir)\n",
    "    \n",
    "    return files"
   ]
  },
  {
   "cell_type": "code",
   "execution_count": 22,
   "metadata": {},
   "outputs": [],
   "source": [
    "################################################################################################################\n",
    "#\n",
    "# Leitura das imagens em lote\n",
    "#\n",
    "#    Realiza a leitura das imagens captchas recebendo por parametro os símbolos que formam os captchas,\n",
    "#    a lista dos nomes dos arquivos e o diretório onde os arquivos estão armazenados.\n",
    "#    Retorna o dataset no formato X e y.\n",
    "#\n",
    "################################################################################################################\n",
    "\n",
    "def read_dataset_batch(symbols, batch_files, captcha_dir = 'images/dataset'):\n",
    "    \n",
    "    n_samples = len(batch_files)\n",
    "    \n",
    "    X = np.zeros((n_samples, img_height, img_width, 1))\n",
    "    y = np.zeros((size_word, n_samples, num_symbols))\n",
    "\n",
    "    i = 0;\n",
    "    \n",
    "    # Leitura de cada arquivo\n",
    "    for name_file in batch_files:\n",
    "        \n",
    "        img = cv2.imread(os.path.join(captcha_dir, name_file), cv2.IMREAD_GRAYSCALE)\n",
    "        word = name_file[:-4] # retira a extensão .png\n",
    "        \n",
    "        # Se a palavra tem 5 caracteres\n",
    "        if len(word) == size_word:\n",
    "            \n",
    "            img = img / 255. # Coloca o valor dos pixels entre 0 e 1\n",
    "            \n",
    "            # Faz o reshape da imagem para a metade do tamanho da altura e comprimento, reduzindo ela em 1/4 do tamanho\n",
    "            img = cv2.resize(img, (img_width, img_height), interpolation=cv2.INTER_AREA)\n",
    "            img = np.reshape(img, (img.shape[0], img.shape[1], 1))\n",
    "            \n",
    "            # Matriz alvo, possui numero da caracteres na palavra por número de caracteres possíveis\n",
    "            # Na matriz alvo se a posição corresponde a determinado símbolo o valor da célula será 1, \n",
    "            # e 0 caso contrário.\n",
    "            targs = np.zeros((size_word, num_symbols))\n",
    "            \n",
    "            for idx_letter, simbol in enumerate(word):\n",
    "                n_simbol = symbols.find(simbol)\n",
    "                targs[idx_letter, n_simbol] = 1\n",
    "                \n",
    "            X[i] = img\n",
    "            y[:, i] = targs\n",
    "            \n",
    "            i = i +1;\n",
    "            \n",
    "            # Controle de progresso\n",
    "            if(i%5000 == 0):\n",
    "                print(str(i) + \" imagens read\");\n",
    "\n",
    "    return X, y"
   ]
  },
  {
   "cell_type": "code",
   "execution_count": 27,
   "metadata": {},
   "outputs": [
    {
     "name": "stdout",
     "output_type": "stream",
     "text": [
      "Número de imagens no dataset teste: 19976\n",
      "5000 imagens read\n",
      "10000 imagens read\n",
      "15000 imagens read\n"
     ]
    }
   ],
   "source": [
    "#Read Dataset\n",
    "name_dir_test = 'images/dataset_test';\n",
    "name_captcha_files_test = read_name_files(files_dir = name_dir_test)\n",
    "print('Número de imagens no dataset teste: ' + str(len(name_captcha_files_test)))\n",
    "\n",
    "X_test, y_test = read_dataset_batch(symbols, name_captcha_files_test, captcha_dir = name_dir_test)\n"
   ]
  },
  {
   "cell_type": "code",
   "execution_count": 36,
   "metadata": {},
   "outputs": [
    {
     "name": "stdout",
     "output_type": "stream",
     "text": [
      "Sv8D9\n"
     ]
    },
    {
     "data": {
      "image/png": "[encoded data removed]",
      "text/plain": [
       "<Figure size 576x1080 with 1 Axes>"
      ]
     },
     "metadata": {
      "needs_background": "light"
     },
     "output_type": "display_data"
    }
   ],
   "source": [
    "# Predict\n",
    "img = X_test[0,:,:]\n",
    "print(predict(model, img))\n",
    "\n",
    "fig = plt.figure(figsize=(8,15))\n",
    "plt.imshow(img[:,:,0], cmap=\"gray\")\n",
    "plt.show()"
   ]
  },
  {
   "cell_type": "code",
   "execution_count": 54,
   "metadata": {},
   "outputs": [
    {
     "name": "stdout",
     "output_type": "stream",
     "text": [
      "(1, 4, 17, 32)\n"
     ]
    },
    {
     "data": {
      "image/png": "[encoded data removed]",
      "text/plain": [
       "<Figure size 576x1080 with 1 Axes>"
      ]
     },
     "metadata": {
      "needs_background": "light"
     },
     "output_type": "display_data"
    },
    {
     "data": {
      "image/png": "[encoded data removed]",
      "text/plain": [
       "<Figure size 576x1080 with 1 Axes>"
      ]
     },
     "metadata": {
      "needs_background": "light"
     },
     "output_type": "display_data"
    },
    {
     "data": {
      "image/png": "[encoded data removed]",
      "text/plain": [
       "<Figure size 576x1080 with 1 Axes>"
      ]
     },
     "metadata": {
      "needs_background": "light"
     },
     "output_type": "display_data"
    },
    {
     "data": {
      "image/png": "[encoded data removed]",
      "text/plain": [
       "<Figure size 576x1080 with 1 Axes>"
      ]
     },
     "metadata": {
      "needs_background": "light"
     },
     "output_type": "display_data"
    }
   ],
   "source": [
    "# Get Output Layers\n",
    "# MaxPool_1\n",
    "#layer_name = 'MaxPool_1'\n",
    "layer_name = 'Conv_3'\n",
    "intermediate_layer_model = Model(inputs=model.input, outputs=model.get_layer(layer_name).output)\n",
    "features = intermediate_output = intermediate_layer_model.predict(img[np.newaxis, :, :, np.newaxis])\n",
    "\n",
    "print(features.shape)\n",
    "fig = plt.figure(figsize=(8,15))\n",
    "plt.imshow(features[0,:,:,0], cmap=\"gray\")\n",
    "plt.show()\n",
    "\n",
    "fig = plt.figure(figsize=(8,15))\n",
    "plt.imshow(features[0,:,:,1], cmap=\"gray\")\n",
    "plt.show()\n",
    "\n",
    "fig = plt.figure(figsize=(8,15))\n",
    "plt.imshow(features[0,:,:,2], cmap=\"gray\")\n",
    "plt.show()\n",
    "\n",
    "fig = plt.figure(figsize=(8,15))\n",
    "plt.imshow(features[0,:,:,3], cmap=\"gray\")\n",
    "plt.show()\n",
    "\n",
    "#print(features)\n",
    "#Conv_3"
   ]
  },
  {
   "cell_type": "code",
   "execution_count": null,
   "metadata": {},
   "outputs": [],
   "source": []
  }
 ],
 "metadata": {
  "kernelspec": {
   "display_name": "Python 3",
   "language": "python",
   "name": "python3"
  },
  "language_info": {
   "codemirror_mode": {
    "name": "ipython",
    "version": 3
   },
   "file_extension": ".py",
   "mimetype": "text/x-python",
   "name": "python",
   "nbconvert_exporter": "python",
   "pygments_lexer": "ipython3",
   "version": "3.8.2"
  }
 },
 "nbformat": 4,
 "nbformat_minor": 4
}
